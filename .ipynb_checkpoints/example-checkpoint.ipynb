{
 "cells": [
  {
   "cell_type": "code",
   "execution_count": 1,
   "metadata": {
    "colab": {
     "base_uri": "https://localhost:8080/",
     "height": 306
    },
    "colab_type": "code",
    "id": "e2NULMLN6eea",
    "outputId": "200aeb3e-331e-49ae-fc09-2eda630d43c4"
   },
   "outputs": [
    {
     "name": "stderr",
     "output_type": "stream",
     "text": [
      "[nltk_data] Downloading package punkt to C:\\Users\\Kumar\n",
      "[nltk_data]     Rajwani\\AppData\\Roaming\\nltk_data...\n",
      "[nltk_data]   Package punkt is already up-to-date!\n",
      "[nltk_data] Downloading package averaged_perceptron_tagger to\n",
      "[nltk_data]     C:\\Users\\Kumar Rajwani\\AppData\\Roaming\\nltk_data...\n",
      "[nltk_data]   Package averaged_perceptron_tagger is already up-to-\n",
      "[nltk_data]       date!\n",
      "[nltk_data] Downloading package universal_tagset to C:\\Users\\Kumar\n",
      "[nltk_data]     Rajwani\\AppData\\Roaming\\nltk_data...\n",
      "[nltk_data]   Unzipping taggers\\universal_tagset.zip.\n",
      "[nltk_data] Downloading package maxent_ne_chunker to C:\\Users\\Kumar\n",
      "[nltk_data]     Rajwani\\AppData\\Roaming\\nltk_data...\n",
      "[nltk_data]   Unzipping chunkers\\maxent_ne_chunker.zip.\n",
      "[nltk_data] Downloading package stopwords to C:\\Users\\Kumar\n",
      "[nltk_data]     Rajwani\\AppData\\Roaming\\nltk_data...\n",
      "[nltk_data]   Unzipping corpora\\stopwords.zip.\n",
      "[nltk_data] Downloading package wordnet to C:\\Users\\Kumar\n",
      "[nltk_data]     Rajwani\\AppData\\Roaming\\nltk_data...\n",
      "[nltk_data]   Unzipping corpora\\wordnet.zip.\n",
      "[nltk_data] Downloading package brown to C:\\Users\\Kumar\n",
      "[nltk_data]     Rajwani\\AppData\\Roaming\\nltk_data...\n",
      "[nltk_data]   Unzipping corpora\\brown.zip.\n"
     ]
    },
    {
     "data": {
      "text/plain": [
       "True"
      ]
     },
     "execution_count": 1,
     "metadata": {},
     "output_type": "execute_result"
    }
   ],
   "source": [
    "import nltk\n",
    "\n",
    "nltk.download('punkt')\n",
    "nltk.download('averaged_perceptron_tagger')\n",
    "nltk.download('universal_tagset')\n",
    "nltk.download('maxent_ne_chunker')\n",
    "nltk.download('stopwords')\n",
    "nltk.download('wordnet')\n",
    "nltk.download('brown')"
   ]
  },
  {
   "cell_type": "code",
   "execution_count": 2,
   "metadata": {
    "colab": {
     "base_uri": "https://localhost:8080/",
     "height": 1000
    },
    "colab_type": "code",
    "id": "-Z1AYTSc7Fm_",
    "outputId": "27b09b2f-7519-41a3-a251-06a73b32648e"
   },
   "outputs": [
    {
     "name": "stdout",
     "output_type": "stream",
     "text": [
      "Collecting resume-parser\n",
      "  Using cached resume_parser-0.6-py3-none-any.whl (4.9 MB)\n",
      "Collecting stemming>=1.0.1\n",
      "  Using cached stemming-1.0.1-py3-none-any.whl\n",
      "Collecting docx2txt>=0.8\n",
      "  Using cached docx2txt-0.8-py3-none-any.whl\n",
      "Requirement already satisfied: pandas>=1.1.0 in c:\\users\\kumar rajwani\\appdata\\local\\programs\\python\\python36\\lib\\site-packages (from resume-parser) (1.1.5)\n",
      "Collecting pdfminer.six>=20200517\n",
      "  Using cached pdfminer.six-20201018-py3-none-any.whl (5.6 MB)\n",
      "Collecting pdfplumber>=0.5.23\n",
      "  Downloading pdfplumber-0.5.26.tar.gz (43 kB)\n",
      "Requirement already satisfied: spacy>=2.3.2 in c:\\users\\kumar rajwani\\appdata\\local\\programs\\python\\python36\\lib\\site-packages (from resume-parser) (2.3.4)\n",
      "Requirement already satisfied: tika>=1.24 in c:\\users\\kumar rajwani\\appdata\\local\\programs\\python\\python36\\lib\\site-packages (from resume-parser) (1.24)\n",
      "Requirement already satisfied: numpy>=1.19.1 in c:\\users\\kumar rajwani\\appdata\\local\\programs\\python\\python36\\lib\\site-packages (from resume-parser) (1.19.4)\n",
      "Requirement already satisfied: nltk>=3.5 in c:\\users\\kumar rajwani\\appdata\\local\\programs\\python\\python36\\lib\\site-packages (from resume-parser) (3.5)\n",
      "Collecting phonenumbers>=8.12.7\n",
      "  Downloading phonenumbers-8.12.18-py2.py3-none-any.whl (2.6 MB)\n",
      "Requirement already satisfied: click in c:\\users\\kumar rajwani\\appdata\\local\\programs\\python\\python36\\lib\\site-packages (from nltk>=3.5->resume-parser) (7.1.2)\n",
      "Requirement already satisfied: joblib in c:\\users\\kumar rajwani\\appdata\\local\\programs\\python\\python36\\lib\\site-packages (from nltk>=3.5->resume-parser) (0.17.0)\n",
      "Requirement already satisfied: regex in c:\\users\\kumar rajwani\\appdata\\local\\programs\\python\\python36\\lib\\site-packages (from nltk>=3.5->resume-parser) (2020.11.13)\n",
      "Requirement already satisfied: tqdm in c:\\users\\kumar rajwani\\appdata\\local\\programs\\python\\python36\\lib\\site-packages (from nltk>=3.5->resume-parser) (4.54.1)\n",
      "Requirement already satisfied: pytz>=2017.2 in c:\\users\\kumar rajwani\\appdata\\local\\programs\\python\\python36\\lib\\site-packages (from pandas>=1.1.0->resume-parser) (2019.3)\n",
      "Requirement already satisfied: python-dateutil>=2.7.3 in c:\\users\\kumar rajwani\\appdata\\local\\programs\\python\\python36\\lib\\site-packages (from pandas>=1.1.0->resume-parser) (2.8.1)\n",
      "Collecting sortedcontainers\n",
      "  Using cached sortedcontainers-2.3.0-py2.py3-none-any.whl (29 kB)\n",
      "Requirement already satisfied: chardet in c:\\users\\kumar rajwani\\appdata\\local\\programs\\python\\python36\\lib\\site-packages (from pdfminer.six>=20200517->resume-parser) (3.0.4)\n",
      "Collecting cryptography\n",
      "  Downloading cryptography-3.4.6-cp36-abi3-win_amd64.whl (1.6 MB)\n",
      "Collecting pdfminer.six>=20200517\n",
      "  Using cached pdfminer.six-20200517-py3-none-any.whl (5.6 MB)\n",
      "Collecting Pillow>=7.0.0\n",
      "  Using cached Pillow-8.1.0-cp36-cp36m-win_amd64.whl (2.1 MB)\n",
      "Collecting Wand\n",
      "  Downloading Wand-0.6.5-py2.py3-none-any.whl (138 kB)\n",
      "Collecting pycryptodome\n",
      "  Downloading pycryptodome-3.10.1-cp35-abi3-win_amd64.whl (1.6 MB)\n",
      "Requirement already satisfied: six>=1.5 in c:\\users\\kumar rajwani\\appdata\\local\\programs\\python\\python36\\lib\\site-packages (from python-dateutil>=2.7.3->pandas>=1.1.0->resume-parser) (1.15.0)\n",
      "Requirement already satisfied: murmurhash<1.1.0,>=0.28.0 in c:\\users\\kumar rajwani\\appdata\\local\\programs\\python\\python36\\lib\\site-packages (from spacy>=2.3.2->resume-parser) (1.0.5)\n",
      "Requirement already satisfied: wasabi<1.1.0,>=0.4.0 in c:\\users\\kumar rajwani\\appdata\\local\\programs\\python\\python36\\lib\\site-packages (from spacy>=2.3.2->resume-parser) (0.8.0)\n",
      "Requirement already satisfied: catalogue<1.1.0,>=0.0.7 in c:\\users\\kumar rajwani\\appdata\\local\\programs\\python\\python36\\lib\\site-packages (from spacy>=2.3.2->resume-parser) (1.0.0)\n",
      "Requirement already satisfied: srsly<1.1.0,>=1.0.2 in c:\\users\\kumar rajwani\\appdata\\local\\programs\\python\\python36\\lib\\site-packages (from spacy>=2.3.2->resume-parser) (1.0.5)\n",
      "Requirement already satisfied: setuptools in c:\\users\\kumar rajwani\\appdata\\local\\programs\\python\\python36\\lib\\site-packages (from spacy>=2.3.2->resume-parser) (53.0.0)\n",
      "Requirement already satisfied: preshed<3.1.0,>=3.0.2 in c:\\users\\kumar rajwani\\appdata\\local\\programs\\python\\python36\\lib\\site-packages (from spacy>=2.3.2->resume-parser) (3.0.5)\n",
      "Requirement already satisfied: thinc<7.5.0,>=7.4.1 in c:\\users\\kumar rajwani\\appdata\\local\\programs\\python\\python36\\lib\\site-packages (from spacy>=2.3.2->resume-parser) (7.4.3)\n",
      "Requirement already satisfied: plac<1.2.0,>=0.9.6 in c:\\users\\kumar rajwani\\appdata\\local\\programs\\python\\python36\\lib\\site-packages (from spacy>=2.3.2->resume-parser) (1.1.3)\n",
      "Requirement already satisfied: requests<3.0.0,>=2.13.0 in c:\\users\\kumar rajwani\\appdata\\local\\programs\\python\\python36\\lib\\site-packages (from spacy>=2.3.2->resume-parser) (2.25.1)\n",
      "Requirement already satisfied: blis<0.8.0,>=0.4.0 in c:\\users\\kumar rajwani\\appdata\\local\\programs\\python\\python36\\lib\\site-packages (from spacy>=2.3.2->resume-parser) (0.7.4)\n",
      "Requirement already satisfied: cymem<2.1.0,>=2.0.2 in c:\\users\\kumar rajwani\\appdata\\local\\programs\\python\\python36\\lib\\site-packages (from spacy>=2.3.2->resume-parser) (2.0.5)\n",
      "Requirement already satisfied: importlib-metadata>=0.20 in c:\\users\\kumar rajwani\\appdata\\local\\programs\\python\\python36\\lib\\site-packages (from catalogue<1.1.0,>=0.0.7->spacy>=2.3.2->resume-parser) (1.7.0)\n",
      "Requirement already satisfied: zipp>=0.5 in c:\\users\\kumar rajwani\\appdata\\local\\programs\\python\\python36\\lib\\site-packages (from importlib-metadata>=0.20->catalogue<1.1.0,>=0.0.7->spacy>=2.3.2->resume-parser) (3.4.0)\n",
      "Requirement already satisfied: idna<3,>=2.5 in c:\\users\\kumar rajwani\\appdata\\local\\programs\\python\\python36\\lib\\site-packages (from requests<3.0.0,>=2.13.0->spacy>=2.3.2->resume-parser) (2.8)\n",
      "Requirement already satisfied: certifi>=2017.4.17 in c:\\users\\kumar rajwani\\appdata\\local\\programs\\python\\python36\\lib\\site-packages (from requests<3.0.0,>=2.13.0->spacy>=2.3.2->resume-parser) (2019.11.28)\n",
      "Requirement already satisfied: urllib3<1.27,>=1.21.1 in c:\\users\\kumar rajwani\\appdata\\local\\programs\\python\\python36\\lib\\site-packages (from requests<3.0.0,>=2.13.0->spacy>=2.3.2->resume-parser) (1.25.7)\n",
      "Requirement already satisfied: cffi>=1.12 in c:\\users\\kumar rajwani\\appdata\\local\\programs\\python\\python36\\lib\\site-packages (from cryptography->pdfminer.six>=20200517->resume-parser) (1.14.3)\n",
      "Requirement already satisfied: pycparser in c:\\users\\kumar rajwani\\appdata\\local\\programs\\python\\python36\\lib\\site-packages (from cffi>=1.12->cryptography->pdfminer.six>=20200517->resume-parser) (2.20)\n",
      "Building wheels for collected packages: pdfplumber\n",
      "  Building wheel for pdfplumber (setup.py): started\n",
      "  Building wheel for pdfplumber (setup.py): finished with status 'done'\n",
      "  Created wheel for pdfplumber: filename=pdfplumber-0.5.26-py3-none-any.whl size=31746 sha256=b9b7322307dfc0e4ebb6d28ea03c40588b2dbbed0cd4acd7e28a67f65ccf2d96\n",
      "  Stored in directory: c:\\users\\kumar rajwani\\appdata\\local\\pip\\cache\\wheels\\a4\\8d\\b6\\8d2bd6be8949ce36c9acee6ed8b63d8b92a0ce4ae2d0d4c1b7\n",
      "Successfully built pdfplumber\n",
      "Installing collected packages: sortedcontainers, pycryptodome, Wand, Pillow, pdfminer.six, stemming, phonenumbers, pdfplumber, docx2txt, resume-parser\n",
      "  Attempting uninstall: Pillow\n",
      "    Found existing installation: Pillow 6.2.0\n",
      "    Uninstalling Pillow-6.2.0:\n",
      "      Successfully uninstalled Pillow-6.2.0\n",
      "Successfully installed Pillow-8.1.0 Wand-0.6.5 docx2txt-0.8 pdfminer.six-20200517 pdfplumber-0.5.26 phonenumbers-8.12.18 pycryptodome-3.10.1 resume-parser-0.6 sortedcontainers-2.3.0 stemming-1.0.1\n"
     ]
    }
   ],
   "source": [
    "!pip install resume-parser"
   ]
  },
  {
   "cell_type": "code",
   "execution_count": 7,
   "metadata": {
    "colab": {
     "base_uri": "https://localhost:8080/",
     "height": 289
    },
    "colab_type": "code",
    "id": "X4uzK3uU7BXt",
    "outputId": "4a5dafd8-f6b8-4965-c4c9-4e398858b038"
   },
   "outputs": [
    {
     "name": "stdout",
     "output_type": "stream",
     "text": [
      "--2020-09-08 04:18:28--  https://github.com/kbrajwani/resume_parser/raw/master/Kumar's%20Resume.pdf\n",
      "Resolving github.com (github.com)... 192.30.255.113\n",
      "Connecting to github.com (github.com)|192.30.255.113|:443... connected.\n",
      "HTTP request sent, awaiting response... 302 Found\n",
      "Location: https://raw.githubusercontent.com/kbrajwani/resume_parser/master/Kumar's%20Resume.pdf [following]\n",
      "--2020-09-08 04:18:28--  https://raw.githubusercontent.com/kbrajwani/resume_parser/master/Kumar's%20Resume.pdf\n",
      "Resolving raw.githubusercontent.com (raw.githubusercontent.com)... 151.101.0.133, 151.101.64.133, 151.101.128.133, ...\n",
      "Connecting to raw.githubusercontent.com (raw.githubusercontent.com)|151.101.0.133|:443... connected.\n",
      "HTTP request sent, awaiting response... 200 OK\n",
      "Length: 55603 (54K) [application/octet-stream]\n",
      "Saving to: ‘Kumar's Resume.pdf’\n",
      "\n",
      "Kumar's Resume.pdf  100%[===================>]  54.30K  --.-KB/s    in 0.02s   \n",
      "\n",
      "2020-09-08 04:18:29 (3.40 MB/s) - ‘Kumar's Resume.pdf’ saved [55603/55603]\n",
      "\n"
     ]
    }
   ],
   "source": [
    "!wget \"https://github.com/kbrajwani/resume_parser/raw/master/Kumar's%20Resume.pdf\""
   ]
  },
  {
   "cell_type": "code",
   "execution_count": 4,
   "metadata": {
    "colab": {
     "base_uri": "https://localhost:8080/",
     "height": 170
    },
    "colab_type": "code",
    "id": "7OC7mqfc6eeo",
    "outputId": "f3519eed-e171-476d-f6ca-10421077c324"
   },
   "outputs": [
    {
     "ename": "OSError",
     "evalue": "[E050] Can't find model 'en_core_web_sm'. It doesn't seem to be a shortcut link, a Python package or a valid path to a data directory.",
     "output_type": "error",
     "traceback": [
      "\u001b[1;31m---------------------------------------------------------------------------\u001b[0m",
      "\u001b[1;31mOSError\u001b[0m                                   Traceback (most recent call last)",
      "\u001b[1;32m<ipython-input-4-70e666d820a2>\u001b[0m in \u001b[0;36m<module>\u001b[1;34m\u001b[0m\n\u001b[1;32m----> 1\u001b[1;33m \u001b[1;32mfrom\u001b[0m \u001b[0mresume_parser\u001b[0m \u001b[1;32mimport\u001b[0m \u001b[0mresumeparse\u001b[0m\u001b[1;33m\u001b[0m\u001b[0m\n\u001b[0m\u001b[0;32m      2\u001b[0m \u001b[0mresumeparse\u001b[0m\u001b[1;33m.\u001b[0m\u001b[0mread_file\u001b[0m\u001b[1;33m(\u001b[0m\u001b[1;34m\"Kumar's Resume.pdf\"\u001b[0m\u001b[1;33m)\u001b[0m\u001b[1;33m\u001b[0m\u001b[0m\n",
      "\u001b[1;32mD:\\naresh laptop\\resume parser\\resume_parser\\__init__.py\u001b[0m in \u001b[0;36m<module>\u001b[1;34m\u001b[0m\n\u001b[1;32m----> 1\u001b[1;33m \u001b[1;32mfrom\u001b[0m \u001b[0mresume_parser\u001b[0m\u001b[1;33m.\u001b[0m\u001b[0mresumeparse\u001b[0m \u001b[1;32mimport\u001b[0m \u001b[0mresumeparse\u001b[0m\u001b[1;33m\u001b[0m\u001b[0m\n\u001b[0m\u001b[0;32m      2\u001b[0m \u001b[1;33m\u001b[0m\u001b[0m\n\u001b[0;32m      3\u001b[0m __all__ = [\n\u001b[0;32m      4\u001b[0m     \u001b[1;34m'resumeparse'\u001b[0m\u001b[1;33m\u001b[0m\u001b[0m\n\u001b[0;32m      5\u001b[0m ]\n",
      "\u001b[1;32mD:\\naresh laptop\\resume parser\\resume_parser\\resumeparse.py\u001b[0m in \u001b[0;36m<module>\u001b[1;34m\u001b[0m\n\u001b[0;32m     47\u001b[0m \u001b[1;33m\u001b[0m\u001b[0m\n\u001b[0;32m     48\u001b[0m \u001b[1;33m\u001b[0m\u001b[0m\n\u001b[1;32m---> 49\u001b[1;33m \u001b[0mnlp\u001b[0m \u001b[1;33m=\u001b[0m \u001b[0mspacy\u001b[0m\u001b[1;33m.\u001b[0m\u001b[0mload\u001b[0m\u001b[1;33m(\u001b[0m\u001b[1;34m'en_core_web_sm'\u001b[0m\u001b[1;33m)\u001b[0m\u001b[1;33m\u001b[0m\u001b[0m\n\u001b[0m\u001b[0;32m     50\u001b[0m \u001b[0mcustom_nlp2\u001b[0m \u001b[1;33m=\u001b[0m \u001b[0mspacy\u001b[0m\u001b[1;33m.\u001b[0m\u001b[0mload\u001b[0m\u001b[1;33m(\u001b[0m\u001b[0mos\u001b[0m\u001b[1;33m.\u001b[0m\u001b[0mpath\u001b[0m\u001b[1;33m.\u001b[0m\u001b[0mjoin\u001b[0m\u001b[1;33m(\u001b[0m\u001b[0mbase_path\u001b[0m\u001b[1;33m,\u001b[0m\u001b[1;34m\"degree\"\u001b[0m\u001b[1;33m,\u001b[0m\u001b[1;34m\"model\"\u001b[0m\u001b[1;33m)\u001b[0m\u001b[1;33m)\u001b[0m\u001b[1;33m\u001b[0m\u001b[0m\n\u001b[0;32m     51\u001b[0m \u001b[1;33m\u001b[0m\u001b[0m\n",
      "\u001b[1;32mc:\\users\\kumar rajwani\\appdata\\local\\programs\\python\\python36\\lib\\site-packages\\spacy\\__init__.py\u001b[0m in \u001b[0;36mload\u001b[1;34m(name, **overrides)\u001b[0m\n\u001b[0;32m     28\u001b[0m     \u001b[1;32mif\u001b[0m \u001b[0mdepr_path\u001b[0m \u001b[1;32mnot\u001b[0m \u001b[1;32min\u001b[0m \u001b[1;33m(\u001b[0m\u001b[1;32mTrue\u001b[0m\u001b[1;33m,\u001b[0m \u001b[1;32mFalse\u001b[0m\u001b[1;33m,\u001b[0m \u001b[1;32mNone\u001b[0m\u001b[1;33m)\u001b[0m\u001b[1;33m:\u001b[0m\u001b[1;33m\u001b[0m\u001b[0m\n\u001b[0;32m     29\u001b[0m         \u001b[0mwarnings\u001b[0m\u001b[1;33m.\u001b[0m\u001b[0mwarn\u001b[0m\u001b[1;33m(\u001b[0m\u001b[0mWarnings\u001b[0m\u001b[1;33m.\u001b[0m\u001b[0mW001\u001b[0m\u001b[1;33m.\u001b[0m\u001b[0mformat\u001b[0m\u001b[1;33m(\u001b[0m\u001b[0mpath\u001b[0m\u001b[1;33m=\u001b[0m\u001b[0mdepr_path\u001b[0m\u001b[1;33m)\u001b[0m\u001b[1;33m,\u001b[0m \u001b[0mDeprecationWarning\u001b[0m\u001b[1;33m)\u001b[0m\u001b[1;33m\u001b[0m\u001b[0m\n\u001b[1;32m---> 30\u001b[1;33m     \u001b[1;32mreturn\u001b[0m \u001b[0mutil\u001b[0m\u001b[1;33m.\u001b[0m\u001b[0mload_model\u001b[0m\u001b[1;33m(\u001b[0m\u001b[0mname\u001b[0m\u001b[1;33m,\u001b[0m \u001b[1;33m**\u001b[0m\u001b[0moverrides\u001b[0m\u001b[1;33m)\u001b[0m\u001b[1;33m\u001b[0m\u001b[0m\n\u001b[0m\u001b[0;32m     31\u001b[0m \u001b[1;33m\u001b[0m\u001b[0m\n\u001b[0;32m     32\u001b[0m \u001b[1;33m\u001b[0m\u001b[0m\n",
      "\u001b[1;32mc:\\users\\kumar rajwani\\appdata\\local\\programs\\python\\python36\\lib\\site-packages\\spacy\\util.py\u001b[0m in \u001b[0;36mload_model\u001b[1;34m(name, **overrides)\u001b[0m\n\u001b[0;32m    173\u001b[0m     \u001b[1;32melif\u001b[0m \u001b[0mhasattr\u001b[0m\u001b[1;33m(\u001b[0m\u001b[0mname\u001b[0m\u001b[1;33m,\u001b[0m \u001b[1;34m\"exists\"\u001b[0m\u001b[1;33m)\u001b[0m\u001b[1;33m:\u001b[0m  \u001b[1;31m# Path or Path-like to model data\u001b[0m\u001b[1;33m\u001b[0m\u001b[0m\n\u001b[0;32m    174\u001b[0m         \u001b[1;32mreturn\u001b[0m \u001b[0mload_model_from_path\u001b[0m\u001b[1;33m(\u001b[0m\u001b[0mname\u001b[0m\u001b[1;33m,\u001b[0m \u001b[1;33m**\u001b[0m\u001b[0moverrides\u001b[0m\u001b[1;33m)\u001b[0m\u001b[1;33m\u001b[0m\u001b[0m\n\u001b[1;32m--> 175\u001b[1;33m     \u001b[1;32mraise\u001b[0m \u001b[0mIOError\u001b[0m\u001b[1;33m(\u001b[0m\u001b[0mErrors\u001b[0m\u001b[1;33m.\u001b[0m\u001b[0mE050\u001b[0m\u001b[1;33m.\u001b[0m\u001b[0mformat\u001b[0m\u001b[1;33m(\u001b[0m\u001b[0mname\u001b[0m\u001b[1;33m=\u001b[0m\u001b[0mname\u001b[0m\u001b[1;33m)\u001b[0m\u001b[1;33m)\u001b[0m\u001b[1;33m\u001b[0m\u001b[0m\n\u001b[0m\u001b[0;32m    176\u001b[0m \u001b[1;33m\u001b[0m\u001b[0m\n\u001b[0;32m    177\u001b[0m \u001b[1;33m\u001b[0m\u001b[0m\n",
      "\u001b[1;31mOSError\u001b[0m: [E050] Can't find model 'en_core_web_sm'. It doesn't seem to be a shortcut link, a Python package or a valid path to a data directory."
     ]
    }
   ],
   "source": [
    "from resume_parser import resumeparse\n",
    "resumeparse.read_file(\"Kumar's Resume.pdf\")"
   ]
  },
  {
   "cell_type": "code",
   "execution_count": null,
   "metadata": {},
   "outputs": [],
   "source": []
  }
 ],
 "metadata": {
  "colab": {
   "name": "example.ipynb",
   "provenance": []
  },
  "kernelspec": {
   "display_name": "Python 3",
   "language": "python",
   "name": "python3"
  },
  "language_info": {
   "codemirror_mode": {
    "name": "ipython",
    "version": 3
   },
   "file_extension": ".py",
   "mimetype": "text/x-python",
   "name": "python",
   "nbconvert_exporter": "python",
   "pygments_lexer": "ipython3",
   "version": "3.6.6"
  }
 },
 "nbformat": 4,
 "nbformat_minor": 1
}
